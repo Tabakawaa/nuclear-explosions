{
 "cells": [
  {
   "cell_type": "markdown",
   "id": "bba37aa1-82aa-49e2-90dd-44d1a27b5740",
   "metadata": {},
   "source": [
    "# Převod dat o jaderných testech do GPKG souboru"
   ]
  },
  {
   "cell_type": "code",
   "execution_count": 82,
   "id": "8077d09c-e035-400e-995c-4531e41b76ae",
   "metadata": {},
   "outputs": [],
   "source": [
    "import geopandas as gpd\n",
    "import pandas as pd\n",
    "import seaborn as sns"
   ]
  },
  {
   "cell_type": "markdown",
   "id": "d2406cae-4af1-4635-9e6e-d62aa1020733",
   "metadata": {},
   "source": [
    "Načtení dat z csv"
   ]
  },
  {
   "cell_type": "code",
   "execution_count": 69,
   "id": "f2d8ec6b-02fd-4e66-9095-56c9ff7830fd",
   "metadata": {},
   "outputs": [],
   "source": [
    "df = pd.read_csv(\"../data/sipri-report-explosions.csv\")"
   ]
  },
  {
   "cell_type": "code",
   "execution_count": 142,
   "id": "2406399c-4e2c-444b-8a19-363ec1745d1b",
   "metadata": {},
   "outputs": [
    {
     "name": "stdout",
     "output_type": "stream",
     "text": [
      "<class 'pandas.core.frame.DataFrame'>\n",
      "RangeIndex: 2051 entries, 0 to 2050\n",
      "Data columns (total 18 columns):\n",
      " #   Column     Non-Null Count  Dtype         \n",
      "---  ------     --------------  -----         \n",
      " 0   date       2051 non-null   datetime64[ns]\n",
      " 1   origin_t   2051 non-null   float64       \n",
      " 2   id_no      2051 non-null   int64         \n",
      " 3   country    2051 non-null   object        \n",
      " 4   region     2051 non-null   object        \n",
      " 5   source     2051 non-null   object        \n",
      " 6   latitude   2051 non-null   float64       \n",
      " 7   longitude  2051 non-null   float64       \n",
      " 8   mb         2051 non-null   float64       \n",
      " 9   Ms         2051 non-null   float64       \n",
      " 10  depth      2051 non-null   float64       \n",
      " 11  yield_1    2048 non-null   float64       \n",
      " 12  yield_u    2046 non-null   float64       \n",
      " 13  purpose    2050 non-null   object        \n",
      " 14  name       1386 non-null   object        \n",
      " 15  type       2051 non-null   object        \n",
      " 16  date_long  2051 non-null   int64         \n",
      " 17  year       2051 non-null   int64         \n",
      "dtypes: datetime64[ns](1), float64(8), int64(3), object(6)\n",
      "memory usage: 288.6+ KB\n"
     ]
    }
   ],
   "source": [
    "df.info()"
   ]
  },
  {
   "cell_type": "markdown",
   "id": "61b3ecbf-63d0-4290-ad29-f6b796757000",
   "metadata": {},
   "source": [
    "Vytvoření nového dataframe obsahující pouze informace o datu a času"
   ]
  },
  {
   "cell_type": "code",
   "execution_count": 71,
   "id": "4ab6ef26-d411-4d68-95c7-a382d0638047",
   "metadata": {},
   "outputs": [
    {
     "name": "stdout",
     "output_type": "stream",
     "text": [
      "<class 'pandas.core.frame.DataFrame'>\n",
      "RangeIndex: 2051 entries, 0 to 2050\n",
      "Data columns (total 2 columns):\n",
      " #   Column     Non-Null Count  Dtype  \n",
      "---  ------     --------------  -----  \n",
      " 0   date_long  2051 non-null   int64  \n",
      " 1   origin_t   2051 non-null   float64\n",
      "dtypes: float64(1), int64(1)\n",
      "memory usage: 32.2 KB\n"
     ]
    }
   ],
   "source": [
    "NewDF = df[[\"date_long\",\"origin_t\"]]\n",
    "NewDF.info()"
   ]
  },
  {
   "cell_type": "markdown",
   "id": "65212e50-271b-4ee8-80e0-c4abc3b4284e",
   "metadata": {},
   "source": [
    "Nahrazení špatně formátovaných časů a datumů do vhodného formátu. Vytvoření jednoho string pro vložení dat zpět do původního dataframe."
   ]
  },
  {
   "cell_type": "code",
   "execution_count": 72,
   "id": "6f378839-f2d8-45bc-9506-f65930eb79b6",
   "metadata": {},
   "outputs": [],
   "source": [
    "NewDF.at[221, 'origin_t'] = 235959.0\n",
    "NewDF.at[1292, 'origin_t'] = 65003.0\n",
    "OriginTIME = NewDF[\"origin_t\"].astype(str).str.zfill(8)\n",
    "Datum = NewDF[\"date_long\"].astype(str)\n",
    "\n",
    "DATE = Datum + \" \" + OriginTIME"
   ]
  },
  {
   "cell_type": "markdown",
   "id": "dbd11b8b-358c-4187-90de-a3c5b85f5cf8",
   "metadata": {},
   "source": [
    "Převod na typ datetime a vložení do původního dataframe jako sloupec date."
   ]
  },
  {
   "cell_type": "code",
   "execution_count": 73,
   "id": "76a2b71b-8336-4538-9f44-8566633e9922",
   "metadata": {},
   "outputs": [],
   "source": [
    "df[\"date\"] = pd.to_datetime(DATE,format=\"%Y%m%d %H%M%S.%f\",errors='coerce')"
   ]
  },
  {
   "cell_type": "code",
   "execution_count": 140,
   "id": "f36e4cbe-2732-4119-aeb0-5e0bf6be2b7f",
   "metadata": {},
   "outputs": [
    {
     "data": {
      "text/html": [
       "<div>\n",
       "<style scoped>\n",
       "    .dataframe tbody tr th:only-of-type {\n",
       "        vertical-align: middle;\n",
       "    }\n",
       "\n",
       "    .dataframe tbody tr th {\n",
       "        vertical-align: top;\n",
       "    }\n",
       "\n",
       "    .dataframe thead th {\n",
       "        text-align: right;\n",
       "    }\n",
       "</style>\n",
       "<table border=\"1\" class=\"dataframe\">\n",
       "  <thead>\n",
       "    <tr style=\"text-align: right;\">\n",
       "      <th></th>\n",
       "      <th>purpose_long</th>\n",
       "    </tr>\n",
       "    <tr>\n",
       "      <th>purpose</th>\n",
       "      <th></th>\n",
       "    </tr>\n",
       "  </thead>\n",
       "  <tbody>\n",
       "    <tr>\n",
       "      <th>WR</th>\n",
       "      <td>weapons related</td>\n",
       "    </tr>\n",
       "    <tr>\n",
       "      <th>COMBAT</th>\n",
       "      <td>Used in war combat</td>\n",
       "    </tr>\n",
       "    <tr>\n",
       "      <th>WE</th>\n",
       "      <td>(used for British French and US tests) to eva...</td>\n",
       "    </tr>\n",
       "    <tr>\n",
       "      <th>ME</th>\n",
       "      <td>Test conducted in the context of a military ex...</td>\n",
       "    </tr>\n",
       "    <tr>\n",
       "      <th>SE</th>\n",
       "      <td>(used for French and US tests) tests to determ...</td>\n",
       "    </tr>\n",
       "    <tr>\n",
       "      <th>FMS</th>\n",
       "      <td>(used for Soviet tests) To study the phenomena...</td>\n",
       "    </tr>\n",
       "    <tr>\n",
       "      <th>SB</th>\n",
       "      <td>unknown</td>\n",
       "    </tr>\n",
       "    <tr>\n",
       "      <th>SAM</th>\n",
       "      <td>(used for Soviet tests) Tests to study acciden...</td>\n",
       "    </tr>\n",
       "    <tr>\n",
       "      <th>PNE:PLO</th>\n",
       "      <td>Peaceful nuclear explosion Plowshare Programme</td>\n",
       "    </tr>\n",
       "    <tr>\n",
       "      <th>TRANSP</th>\n",
       "      <td>Transportation-storage purposes</td>\n",
       "    </tr>\n",
       "    <tr>\n",
       "      <th>PNE:V</th>\n",
       "      <td>Peaceful nuclear explosion Vela Uniform Test</td>\n",
       "    </tr>\n",
       "    <tr>\n",
       "      <th>NaN</th>\n",
       "      <td>error</td>\n",
       "    </tr>\n",
       "    <tr>\n",
       "      <th>PNE</th>\n",
       "      <td>Peaceful nuclear explosion</td>\n",
       "    </tr>\n",
       "    <tr>\n",
       "      <th>WR/SE</th>\n",
       "      <td>weapons related/(used for French and US tests...</td>\n",
       "    </tr>\n",
       "    <tr>\n",
       "      <th>WR/WE</th>\n",
       "      <td>weapons related/ (used for British French and ...</td>\n",
       "    </tr>\n",
       "    <tr>\n",
       "      <th>WR/PNE</th>\n",
       "      <td>weapons related/Peaceful nuclear explosion</td>\n",
       "    </tr>\n",
       "    <tr>\n",
       "      <th>WR/SAM</th>\n",
       "      <td>weapons related/(used for Soviet tests) Tests ...</td>\n",
       "    </tr>\n",
       "    <tr>\n",
       "      <th>PNE/WR</th>\n",
       "      <td>Peaceful nuclear explosion/weapons related</td>\n",
       "    </tr>\n",
       "    <tr>\n",
       "      <th>SE/WR</th>\n",
       "      <td>(used for French and US tests) tests to determ...</td>\n",
       "    </tr>\n",
       "    <tr>\n",
       "      <th>WR/P/SA</th>\n",
       "      <td>weapons related/Peaceful nuclear explosion/unk...</td>\n",
       "    </tr>\n",
       "    <tr>\n",
       "      <th>WE/SAM</th>\n",
       "      <td>(used for British French and US tests) to eval...</td>\n",
       "    </tr>\n",
       "    <tr>\n",
       "      <th>WE/WR</th>\n",
       "      <td>(used for British French and US tests) to eval...</td>\n",
       "    </tr>\n",
       "    <tr>\n",
       "      <th>WR/F/SA</th>\n",
       "      <td>weapons related/unknown/unknown</td>\n",
       "    </tr>\n",
       "    <tr>\n",
       "      <th>WR/FMS</th>\n",
       "      <td>weapons related/(used for Soviet tests) To stu...</td>\n",
       "    </tr>\n",
       "    <tr>\n",
       "      <th>FMS/WR</th>\n",
       "      <td>(used for Soviet tests) To study the phenomena...</td>\n",
       "    </tr>\n",
       "    <tr>\n",
       "      <th>WR/P/S</th>\n",
       "      <td>weapons related/unknown/unknown</td>\n",
       "    </tr>\n",
       "    <tr>\n",
       "      <th>WR/F/S</th>\n",
       "      <td>weapons related/unknown/unknown</td>\n",
       "    </tr>\n",
       "    <tr>\n",
       "      <th>WR/WE/S</th>\n",
       "      <td>weapons related/(used for British French and U...</td>\n",
       "    </tr>\n",
       "  </tbody>\n",
       "</table>\n",
       "</div>"
      ],
      "text/plain": [
       "                                              purpose_long\n",
       "purpose                                                   \n",
       "WR                                         weapons related\n",
       "COMBAT                                  Used in war combat\n",
       "WE        (used for British French and US tests) to eva...\n",
       "ME       Test conducted in the context of a military ex...\n",
       "SE       (used for French and US tests) tests to determ...\n",
       "FMS      (used for Soviet tests) To study the phenomena...\n",
       "SB                                                 unknown\n",
       "SAM      (used for Soviet tests) Tests to study acciden...\n",
       "PNE:PLO     Peaceful nuclear explosion Plowshare Programme\n",
       "TRANSP                     Transportation-storage purposes\n",
       "PNE:V         Peaceful nuclear explosion Vela Uniform Test\n",
       "NaN                                                  error\n",
       "PNE                             Peaceful nuclear explosion\n",
       "WR/SE     weapons related/(used for French and US tests...\n",
       "WR/WE    weapons related/ (used for British French and ...\n",
       "WR/PNE          weapons related/Peaceful nuclear explosion\n",
       "WR/SAM   weapons related/(used for Soviet tests) Tests ...\n",
       "PNE/WR          Peaceful nuclear explosion/weapons related\n",
       "SE/WR    (used for French and US tests) tests to determ...\n",
       "WR/P/SA  weapons related/Peaceful nuclear explosion/unk...\n",
       "WE/SAM   (used for British French and US tests) to eval...\n",
       "WE/WR    (used for British French and US tests) to eval...\n",
       "WR/F/SA                    weapons related/unknown/unknown\n",
       "WR/FMS   weapons related/(used for Soviet tests) To stu...\n",
       "FMS/WR   (used for Soviet tests) To study the phenomena...\n",
       "WR/P/S                     weapons related/unknown/unknown\n",
       "WR/F/S                     weapons related/unknown/unknown\n",
       "WR/WE/S  weapons related/(used for British French and U..."
      ]
     },
     "execution_count": 140,
     "metadata": {},
     "output_type": "execute_result"
    }
   ],
   "source": [
    "purpose_df = pd.read_csv(\"purpose.txt\")\n",
    "purpose_df = purpose_df.set_index(\"purpose\")\n",
    "purpose_df"
   ]
  },
  {
   "cell_type": "code",
   "execution_count": 143,
   "id": "0bc048b5-3b93-4148-ac56-4eace06e91ad",
   "metadata": {},
   "outputs": [],
   "source": [
    "df = df.join(purpose_df,on = \"purpose\")"
   ]
  },
  {
   "cell_type": "code",
   "execution_count": 145,
   "id": "ca85c855-f01a-4ae2-8cac-ea13a6fe2b4b",
   "metadata": {},
   "outputs": [],
   "source": [
    "geometry = gpd.points_from_xy(df.longitude, df.latitude, crs=\"EPSG:4326\")"
   ]
  },
  {
   "cell_type": "code",
   "execution_count": 146,
   "id": "3a88084a-af4b-4b3b-a136-ac1cc0d7ba92",
   "metadata": {},
   "outputs": [],
   "source": [
    "GDF = gpd.GeoDataFrame(data = df, geometry = geometry)"
   ]
  },
  {
   "cell_type": "code",
   "execution_count": 147,
   "id": "d7235aec-bc1e-423c-b837-6418a47daf29",
   "metadata": {},
   "outputs": [
    {
     "name": "stdout",
     "output_type": "stream",
     "text": [
      "<class 'geopandas.geodataframe.GeoDataFrame'>\n",
      "RangeIndex: 2051 entries, 0 to 2050\n",
      "Data columns (total 20 columns):\n",
      " #   Column         Non-Null Count  Dtype         \n",
      "---  ------         --------------  -----         \n",
      " 0   date           2051 non-null   datetime64[ns]\n",
      " 1   origin_t       2051 non-null   float64       \n",
      " 2   id_no          2051 non-null   int64         \n",
      " 3   country        2051 non-null   object        \n",
      " 4   region         2051 non-null   object        \n",
      " 5   source         2051 non-null   object        \n",
      " 6   latitude       2051 non-null   float64       \n",
      " 7   longitude      2051 non-null   float64       \n",
      " 8   mb             2051 non-null   float64       \n",
      " 9   Ms             2051 non-null   float64       \n",
      " 10  depth          2051 non-null   float64       \n",
      " 11  yield_1        2048 non-null   float64       \n",
      " 12  yield_u        2046 non-null   float64       \n",
      " 13  purpose        2050 non-null   object        \n",
      " 14  name           1386 non-null   object        \n",
      " 15  type           2051 non-null   object        \n",
      " 16  date_long      2051 non-null   int64         \n",
      " 17  year           2051 non-null   int64         \n",
      " 18   purpose_long  2051 non-null   object        \n",
      " 19  geometry       2051 non-null   geometry      \n",
      "dtypes: datetime64[ns](1), float64(8), geometry(1), int64(3), object(7)\n",
      "memory usage: 320.6+ KB\n"
     ]
    }
   ],
   "source": [
    "GDF.info()"
   ]
  },
  {
   "cell_type": "code",
   "execution_count": 148,
   "id": "edcab6ca-de95-4db3-8582-2c41a1bc25d7",
   "metadata": {},
   "outputs": [
    {
     "data": {
      "text/plain": [
       "array(['WR', 'COMBAT', 'WE', 'ME', 'SE', 'FMS', 'SB', 'SAM', 'PNE:PLO',\n",
       "       'TRANSP', 'PNE:V', nan, 'PNE', 'WR/SE', 'WR/WE', 'WR/PNE',\n",
       "       'WR/SAM', 'PNE/WR', 'SE/WR', 'WR/P/SA', 'WE/SAM', 'WE/WR',\n",
       "       'WR/F/SA', 'WR/FMS', 'FMS/WR', 'WR/P/S', 'WR/F/S', 'WR/WE/S'],\n",
       "      dtype=object)"
      ]
     },
     "execution_count": 148,
     "metadata": {},
     "output_type": "execute_result"
    }
   ],
   "source": [
    "#'sns.displot(data=GDF, x=\"country\", y=\"year\")\n",
    "GDF[\"purpose\"].unique()"
   ]
  },
  {
   "cell_type": "code",
   "execution_count": 149,
   "id": "5f32b554-6d24-462c-be2b-06076faf23ca",
   "metadata": {},
   "outputs": [],
   "source": [
    "GDF.to_file(\"NuclearExplosions.gpkg\", driver=\"GPKG\")"
   ]
  },
  {
   "cell_type": "code",
   "execution_count": null,
   "id": "a8667f60-d66e-4185-9fe1-f23f20024dd1",
   "metadata": {},
   "outputs": [],
   "source": []
  }
 ],
 "metadata": {
  "kernelspec": {
   "display_name": "Python 3 (ipykernel)",
   "language": "python",
   "name": "python3"
  },
  "language_info": {
   "codemirror_mode": {
    "name": "ipython",
    "version": 3
   },
   "file_extension": ".py",
   "mimetype": "text/x-python",
   "name": "python",
   "nbconvert_exporter": "python",
   "pygments_lexer": "ipython3",
   "version": "3.13.2"
  }
 },
 "nbformat": 4,
 "nbformat_minor": 5
}
